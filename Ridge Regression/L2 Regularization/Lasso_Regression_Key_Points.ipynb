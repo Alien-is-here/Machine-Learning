{
  "cells": [
    {
      "cell_type": "markdown",
      "id": "d495a6a7",
      "metadata": {
        "id": "d495a6a7"
      },
      "source": [
        "## 1. How are coefficients affected?"
      ]
    },
    {
      "cell_type": "code",
      "execution_count": null,
      "id": "aa90b301",
      "metadata": {
        "id": "aa90b301"
      },
      "outputs": [],
      "source": [
        "from sklearn.datasets import load_diabetes\n",
        "\n",
        "import numpy as np\n",
        "import pandas as pd\n",
        "\n",
        "import matplotlib.pyplot as plt\n",
        "\n",
        "from sklearn.linear_model import Lasso\n",
        "from sklearn.metrics import r2_score\n",
        "\n",
        "from sklearn.model_selection import train_test_split"
      ]
    },
    {
      "cell_type": "code",
      "execution_count": null,
      "id": "c73ec17b",
      "metadata": {
        "id": "c73ec17b",
        "outputId": "aae8d760-b5db-447a-b16b-732ebd8f652f"
      },
      "outputs": [
        {
          "data": {
            "text/html": [
              "<div>\n",
              "<style scoped>\n",
              "    .dataframe tbody tr th:only-of-type {\n",
              "        vertical-align: middle;\n",
              "    }\n",
              "\n",
              "    .dataframe tbody tr th {\n",
              "        vertical-align: top;\n",
              "    }\n",
              "\n",
              "    .dataframe thead th {\n",
              "        text-align: right;\n",
              "    }\n",
              "</style>\n",
              "<table border=\"1\" class=\"dataframe\">\n",
              "  <thead>\n",
              "    <tr style=\"text-align: right;\">\n",
              "      <th></th>\n",
              "      <th>age</th>\n",
              "      <th>sex</th>\n",
              "      <th>bmi</th>\n",
              "      <th>bp</th>\n",
              "      <th>s1</th>\n",
              "      <th>s2</th>\n",
              "      <th>s3</th>\n",
              "      <th>s4</th>\n",
              "      <th>s5</th>\n",
              "      <th>s6</th>\n",
              "      <th>TARGET</th>\n",
              "    </tr>\n",
              "  </thead>\n",
              "  <tbody>\n",
              "    <tr>\n",
              "      <th>0</th>\n",
              "      <td>0.038076</td>\n",
              "      <td>0.050680</td>\n",
              "      <td>0.061696</td>\n",
              "      <td>0.021872</td>\n",
              "      <td>-0.044223</td>\n",
              "      <td>-0.034821</td>\n",
              "      <td>-0.043401</td>\n",
              "      <td>-0.002592</td>\n",
              "      <td>0.019908</td>\n",
              "      <td>-0.017646</td>\n",
              "      <td>151.0</td>\n",
              "    </tr>\n",
              "    <tr>\n",
              "      <th>1</th>\n",
              "      <td>-0.001882</td>\n",
              "      <td>-0.044642</td>\n",
              "      <td>-0.051474</td>\n",
              "      <td>-0.026328</td>\n",
              "      <td>-0.008449</td>\n",
              "      <td>-0.019163</td>\n",
              "      <td>0.074412</td>\n",
              "      <td>-0.039493</td>\n",
              "      <td>-0.068330</td>\n",
              "      <td>-0.092204</td>\n",
              "      <td>75.0</td>\n",
              "    </tr>\n",
              "    <tr>\n",
              "      <th>2</th>\n",
              "      <td>0.085299</td>\n",
              "      <td>0.050680</td>\n",
              "      <td>0.044451</td>\n",
              "      <td>-0.005671</td>\n",
              "      <td>-0.045599</td>\n",
              "      <td>-0.034194</td>\n",
              "      <td>-0.032356</td>\n",
              "      <td>-0.002592</td>\n",
              "      <td>0.002864</td>\n",
              "      <td>-0.025930</td>\n",
              "      <td>141.0</td>\n",
              "    </tr>\n",
              "    <tr>\n",
              "      <th>3</th>\n",
              "      <td>-0.089063</td>\n",
              "      <td>-0.044642</td>\n",
              "      <td>-0.011595</td>\n",
              "      <td>-0.036656</td>\n",
              "      <td>0.012191</td>\n",
              "      <td>0.024991</td>\n",
              "      <td>-0.036038</td>\n",
              "      <td>0.034309</td>\n",
              "      <td>0.022692</td>\n",
              "      <td>-0.009362</td>\n",
              "      <td>206.0</td>\n",
              "    </tr>\n",
              "    <tr>\n",
              "      <th>4</th>\n",
              "      <td>0.005383</td>\n",
              "      <td>-0.044642</td>\n",
              "      <td>-0.036385</td>\n",
              "      <td>0.021872</td>\n",
              "      <td>0.003935</td>\n",
              "      <td>0.015596</td>\n",
              "      <td>0.008142</td>\n",
              "      <td>-0.002592</td>\n",
              "      <td>-0.031991</td>\n",
              "      <td>-0.046641</td>\n",
              "      <td>135.0</td>\n",
              "    </tr>\n",
              "  </tbody>\n",
              "</table>\n",
              "</div>"
            ],
            "text/plain": [
              "        age       sex       bmi        bp        s1        s2        s3  \\\n",
              "0  0.038076  0.050680  0.061696  0.021872 -0.044223 -0.034821 -0.043401   \n",
              "1 -0.001882 -0.044642 -0.051474 -0.026328 -0.008449 -0.019163  0.074412   \n",
              "2  0.085299  0.050680  0.044451 -0.005671 -0.045599 -0.034194 -0.032356   \n",
              "3 -0.089063 -0.044642 -0.011595 -0.036656  0.012191  0.024991 -0.036038   \n",
              "4  0.005383 -0.044642 -0.036385  0.021872  0.003935  0.015596  0.008142   \n",
              "\n",
              "         s4        s5        s6  TARGET  \n",
              "0 -0.002592  0.019908 -0.017646   151.0  \n",
              "1 -0.039493 -0.068330 -0.092204    75.0  \n",
              "2 -0.002592  0.002864 -0.025930   141.0  \n",
              "3  0.034309  0.022692 -0.009362   206.0  \n",
              "4 -0.002592 -0.031991 -0.046641   135.0  "
            ]
          },
          "execution_count": 91,
          "metadata": {},
          "output_type": "execute_result"
        }
      ],
      "source": [
        "data = load_diabetes()\n",
        "\n",
        "df = pd.DataFrame(data.data,columns=data.feature_names)\n",
        "df['TARGET'] = data.target\n",
        "\n",
        "df.head()"
      ]
    },
    {
      "cell_type": "code",
      "execution_count": 1,
      "id": "44c26135",
      "metadata": {
        "colab": {
          "base_uri": "https://localhost:8080/",
          "height": 141
        },
        "id": "44c26135",
        "outputId": "e77a5d5a-2a9f-4484-d884-007384ea02e5"
      },
      "outputs": [
        {
          "output_type": "error",
          "ename": "NameError",
          "evalue": "name 'train_test_split' is not defined",
          "traceback": [
            "\u001b[0;31m---------------------------------------------------------------------------\u001b[0m",
            "\u001b[0;31mNameError\u001b[0m                                 Traceback (most recent call last)",
            "\u001b[0;32m<ipython-input-1-7345d454701e>\u001b[0m in \u001b[0;36m<cell line: 1>\u001b[0;34m()\u001b[0m\n\u001b[0;32m----> 1\u001b[0;31m \u001b[0mX_train\u001b[0m\u001b[0;34m,\u001b[0m\u001b[0mX_test\u001b[0m\u001b[0;34m,\u001b[0m\u001b[0my_train\u001b[0m\u001b[0;34m,\u001b[0m\u001b[0my_test\u001b[0m \u001b[0;34m=\u001b[0m \u001b[0mtrain_test_split\u001b[0m\u001b[0;34m(\u001b[0m\u001b[0mdata\u001b[0m\u001b[0;34m.\u001b[0m\u001b[0mdata\u001b[0m\u001b[0;34m,\u001b[0m\u001b[0mdata\u001b[0m\u001b[0;34m.\u001b[0m\u001b[0mtarget\u001b[0m\u001b[0;34m,\u001b[0m\u001b[0mtest_size\u001b[0m\u001b[0;34m=\u001b[0m\u001b[0;36m0.2\u001b[0m\u001b[0;34m,\u001b[0m\u001b[0mrandom_state\u001b[0m\u001b[0;34m=\u001b[0m\u001b[0;36m2\u001b[0m\u001b[0;34m)\u001b[0m\u001b[0;34m\u001b[0m\u001b[0;34m\u001b[0m\u001b[0m\n\u001b[0m",
            "\u001b[0;31mNameError\u001b[0m: name 'train_test_split' is not defined"
          ]
        }
      ],
      "source": [
        "X_train,X_test,y_train,y_test = train_test_split(data.data,data.target,test_size=0.2,random_state=2)"
      ]
    },
    {
      "cell_type": "code",
      "execution_count": 2,
      "id": "f1833137",
      "metadata": {
        "colab": {
          "base_uri": "https://localhost:8080/",
          "height": 211
        },
        "id": "f1833137",
        "outputId": "5fe8387d-376f-4d41-e677-d02e22107159"
      },
      "outputs": [
        {
          "output_type": "error",
          "ename": "NameError",
          "evalue": "name 'Lasso' is not defined",
          "traceback": [
            "\u001b[0;31m---------------------------------------------------------------------------\u001b[0m",
            "\u001b[0;31mNameError\u001b[0m                                 Traceback (most recent call last)",
            "\u001b[0;32m<ipython-input-2-73bb2b6a9955>\u001b[0m in \u001b[0;36m<cell line: 4>\u001b[0;34m()\u001b[0m\n\u001b[1;32m      3\u001b[0m \u001b[0;34m\u001b[0m\u001b[0m\n\u001b[1;32m      4\u001b[0m \u001b[0;32mfor\u001b[0m \u001b[0mi\u001b[0m \u001b[0;32min\u001b[0m \u001b[0;34m[\u001b[0m\u001b[0;36m0\u001b[0m\u001b[0;34m,\u001b[0m\u001b[0;36m0.1\u001b[0m\u001b[0;34m,\u001b[0m\u001b[0;36m1\u001b[0m\u001b[0;34m,\u001b[0m\u001b[0;36m10\u001b[0m\u001b[0;34m]\u001b[0m\u001b[0;34m:\u001b[0m\u001b[0;34m\u001b[0m\u001b[0;34m\u001b[0m\u001b[0m\n\u001b[0;32m----> 5\u001b[0;31m     \u001b[0mreg\u001b[0m \u001b[0;34m=\u001b[0m \u001b[0mLasso\u001b[0m\u001b[0;34m(\u001b[0m\u001b[0malpha\u001b[0m\u001b[0;34m=\u001b[0m\u001b[0mi\u001b[0m\u001b[0;34m)\u001b[0m\u001b[0;34m\u001b[0m\u001b[0;34m\u001b[0m\u001b[0m\n\u001b[0m\u001b[1;32m      6\u001b[0m     \u001b[0mreg\u001b[0m\u001b[0;34m.\u001b[0m\u001b[0mfit\u001b[0m\u001b[0;34m(\u001b[0m\u001b[0mX_train\u001b[0m\u001b[0;34m,\u001b[0m\u001b[0my_train\u001b[0m\u001b[0;34m)\u001b[0m\u001b[0;34m\u001b[0m\u001b[0;34m\u001b[0m\u001b[0m\n\u001b[1;32m      7\u001b[0m \u001b[0;34m\u001b[0m\u001b[0m\n",
            "\u001b[0;31mNameError\u001b[0m: name 'Lasso' is not defined"
          ]
        }
      ],
      "source": [
        "\n",
        "coefs = []\n",
        "r2_scores = []\n",
        "\n",
        "for i in [0,0.1,1,10]:\n",
        "    reg = Lasso(alpha=i)\n",
        "    reg.fit(X_train,y_train)\n",
        "\n",
        "    coefs.append(reg.coef_.tolist())\n",
        "    y_pred = reg.predict(X_test)\n",
        "    r2_scores.append(r2_score(y_test,y_pred))"
      ]
    },
    {
      "cell_type": "code",
      "execution_count": null,
      "id": "3b4932b7",
      "metadata": {
        "id": "3b4932b7"
      },
      "outputs": [],
      "source": [
        "plt.figure(figsize=(14,9))\n",
        "plt.subplot(221)\n",
        "plt.bar(data.feature_names,coefs[0])\n",
        "plt.title('Alpha = 0 ,r2_score = {}'.format(round(r2_scores[0],2)))\n",
        "\n",
        "plt.subplot(222)\n",
        "plt.bar(data.feature_names,coefs[1])\n",
        "plt.title('Alpha = 0.1 ,r2_score = {}'.format(round(r2_scores[1],2)))\n",
        "\n",
        "plt.subplot(223)\n",
        "plt.bar(data.feature_names,coefs[2])\n",
        "plt.title('Alpha = 1 ,r2_score = {}'.format(round(r2_scores[2],2)))\n",
        "\n",
        "plt.subplot(224)\n",
        "plt.bar(data.feature_names,coefs[3])\n",
        "plt.title('Alpha = 10 ,r2_score = {}'.format(round(r2_scores[3],2)))\n",
        "\n",
        "plt.show()"
      ]
    },
    {
      "cell_type": "markdown",
      "id": "1cf6fcf3",
      "metadata": {
        "id": "1cf6fcf3"
      },
      "source": [
        "## 2. Higher Coefficients are affected more"
      ]
    },
    {
      "cell_type": "code",
      "execution_count": null,
      "id": "67e912f0",
      "metadata": {
        "id": "67e912f0"
      },
      "outputs": [],
      "source": [
        "alphas = [0,0.0001,0.001,0.01,0.1,1,10,100,1000,10000]\n",
        "\n",
        "coefs = []\n",
        "\n",
        "for i in alphas:\n",
        "    reg = Lasso(alpha=i)\n",
        "    reg.fit(X_train,y_train)\n",
        "\n",
        "    coefs.append(reg.coef_.tolist())"
      ]
    },
    {
      "cell_type": "code",
      "execution_count": null,
      "id": "6588bad6",
      "metadata": {
        "id": "6588bad6"
      },
      "outputs": [],
      "source": [
        "input_array = np.array(coefs)\n",
        "\n",
        "coef_df = pd.DataFrame(input_array,columns=data.feature_names)\n",
        "coef_df['alpha'] = alphas\n",
        "coef_df.set_index('alpha')"
      ]
    },
    {
      "cell_type": "code",
      "execution_count": null,
      "id": "42ff64db",
      "metadata": {
        "id": "42ff64db"
      },
      "outputs": [],
      "source": [
        "alphas = [0,0.0001,0.0005,0.001,0.005,0.1,0.5,1,5,10]\n",
        "\n",
        "coefs = []\n",
        "\n",
        "for i in alphas:\n",
        "    reg = Lasso(alpha=i)\n",
        "    reg.fit(X_train,y_train)\n",
        "\n",
        "    coefs.append(reg.coef_.tolist())"
      ]
    },
    {
      "cell_type": "code",
      "execution_count": null,
      "id": "2208f519",
      "metadata": {
        "id": "2208f519"
      },
      "outputs": [],
      "source": [
        "input_array = np.array(coefs).T\n",
        "\n",
        "plt.figure(figsize=(15,8))\n",
        "plt.plot(alphas,np.zeros(len(alphas)),color='black',linewidth=5)\n",
        "for i in range(input_array.shape[0]):\n",
        "    plt.plot(alphas,input_array[i],label=data.feature_names[i])\n",
        "plt.legend()"
      ]
    },
    {
      "cell_type": "markdown",
      "id": "ed6e29f9",
      "metadata": {
        "id": "ed6e29f9"
      },
      "source": [
        "## 3. Impact on Bias and Variance"
      ]
    },
    {
      "cell_type": "code",
      "execution_count": null,
      "id": "3b95dcd1",
      "metadata": {
        "id": "3b95dcd1"
      },
      "outputs": [],
      "source": [
        "m = 100\n",
        "X = 5 * np.random.rand(m, 1) - 2\n",
        "y = 0.7 * X ** 2 - 2 * X + 3 + np.random.randn(m, 1)\n",
        "\n",
        "plt.scatter(X, y)\n",
        "plt.show()"
      ]
    },
    {
      "cell_type": "code",
      "execution_count": null,
      "id": "780dc0de",
      "metadata": {
        "id": "780dc0de"
      },
      "outputs": [],
      "source": [
        "X_train,X_test,y_train,y_test = train_test_split(X.reshape(100,1),y.reshape(100),test_size=0.2,random_state=2)"
      ]
    },
    {
      "cell_type": "code",
      "execution_count": null,
      "id": "3a6231bb",
      "metadata": {
        "id": "3a6231bb"
      },
      "outputs": [],
      "source": [
        "from sklearn.preprocessing import PolynomialFeatures\n",
        "poly = PolynomialFeatures(degree=10)\n",
        "\n",
        "X_train = poly.fit_transform(X_train)\n",
        "X_test = poly.transform(X_test)"
      ]
    },
    {
      "cell_type": "code",
      "execution_count": null,
      "id": "1db0e423",
      "metadata": {
        "id": "1db0e423"
      },
      "outputs": [],
      "source": [
        "from mlxtend.evaluate import bias_variance_decomp\n",
        "\n",
        "alphas = np.linspace(0,30,100)\n",
        "\n",
        "loss = []\n",
        "bias = []\n",
        "variance = []\n",
        "\n",
        "for i in alphas:\n",
        "    reg = Lasso(alpha=i)\n",
        "    avg_expected_loss, avg_bias, avg_var = bias_variance_decomp(\n",
        "        reg, X_train, y_train, X_test, y_test,\n",
        "        loss='mse',\n",
        "        random_seed=123)\n",
        "    loss.append(avg_expected_loss)\n",
        "    bias.append(avg_bias)\n",
        "    variance.append(avg_var)"
      ]
    },
    {
      "cell_type": "code",
      "execution_count": null,
      "id": "7e67f658",
      "metadata": {
        "id": "7e67f658"
      },
      "outputs": [],
      "source": [
        "plt.plot(alphas,loss,label='loss')\n",
        "plt.plot(alphas,bias,label='Bias')\n",
        "plt.plot(alphas,variance,label='Variance')\n",
        "plt.xlabel('Alpha')\n",
        "plt.legend()"
      ]
    },
    {
      "cell_type": "markdown",
      "id": "4132419f",
      "metadata": {
        "id": "4132419f"
      },
      "source": [
        "## 4. Effect of Regularization on Loss Function"
      ]
    },
    {
      "cell_type": "code",
      "execution_count": null,
      "id": "7ebc8d9d",
      "metadata": {
        "id": "7ebc8d9d"
      },
      "outputs": [],
      "source": [
        "from sklearn.datasets import make_regression\n",
        "\n",
        "X,y = make_regression(n_samples=100, n_features=1, n_informative=1, n_targets=1,noise=20,random_state=13)\n",
        "\n",
        "plt.scatter(X,y)\n",
        "\n",
        "from sklearn.linear_model import LinearRegression\n",
        "\n",
        "reg = LinearRegression()\n",
        "reg.fit(X,y)\n",
        "print(reg.coef_)\n",
        "print(reg.intercept_)"
      ]
    },
    {
      "cell_type": "code",
      "execution_count": null,
      "id": "e9d4a312",
      "metadata": {
        "id": "e9d4a312"
      },
      "outputs": [],
      "source": [
        "def cal_loss(m,alpha):\n",
        "    return np.sum((y - m*X.ravel() + 2.29)**2) + alpha*abs(m)"
      ]
    },
    {
      "cell_type": "code",
      "execution_count": null,
      "id": "7622bf52",
      "metadata": {
        "id": "7622bf52"
      },
      "outputs": [],
      "source": [
        "def predict(m):\n",
        "    return m*X - 2.29"
      ]
    },
    {
      "cell_type": "code",
      "execution_count": null,
      "id": "fb424153",
      "metadata": {
        "id": "fb424153"
      },
      "outputs": [],
      "source": [
        "m = np.linspace(-45,100,100)\n",
        "plt.figure(figsize=(12,12))\n",
        "for j in [0,100,500,1000,2500,3500,4500,5500]:\n",
        "    loss = []\n",
        "    for i in range(m.shape[0]):\n",
        "        loss_i = cal_loss(m[i],j)\n",
        "        loss.append(loss_i)\n",
        "    plt.plot(m,loss,label='alpha = {}'.format(j))\n",
        "plt.legend()\n",
        "plt.xlabel('Alpha')\n",
        "plt.ylabel('Loss')\n",
        "plt.show()"
      ]
    },
    {
      "cell_type": "code",
      "execution_count": null,
      "id": "322f5a1e",
      "metadata": {
        "id": "322f5a1e"
      },
      "outputs": [],
      "source": []
    }
  ],
  "metadata": {
    "kernelspec": {
      "display_name": "Python 3",
      "language": "python",
      "name": "python3"
    },
    "language_info": {
      "codemirror_mode": {
        "name": "ipython",
        "version": 3
      },
      "file_extension": ".py",
      "mimetype": "text/x-python",
      "name": "python",
      "nbconvert_exporter": "python",
      "pygments_lexer": "ipython3",
      "version": "3.8.8"
    },
    "colab": {
      "provenance": []
    }
  },
  "nbformat": 4,
  "nbformat_minor": 5
}